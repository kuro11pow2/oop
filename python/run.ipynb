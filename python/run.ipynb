{
 "cells": [
  {
   "cell_type": "markdown",
   "metadata": {},
   "source": [
    "# 객체"
   ]
  },
  {
   "cell_type": "code",
   "execution_count": null,
   "metadata": {},
   "outputs": [],
   "source": [
    "class User:\n",
    "\n",
    "    class_attr = 1\n",
    "\n",
    "    def __init__(self, name):\n",
    "        self.name = name\n",
    "\n",
    "    def greeting(self):\n",
    "        \"\"\"\n",
    "        인스턴스 메소드(인스턴스 접근할 경우, 첫 인자가 자기 자신으로 주어짐)\n",
    "        \"\"\"\n",
    "        print(f'{self.name=}')\n",
    "\n",
    "    @classmethod\n",
    "    def classGreeting(cls):\n",
    "        \"\"\"\n",
    "        클래스 메소드(항상 첫 인자가 자기 자신(의 클래스)로 주어짐)\n",
    "        \"\"\"\n",
    "        print(f'{cls}, {cls.class_attr=}')\n",
    "\n",
    "    @staticmethod\n",
    "    def staticGreeting(name):\n",
    "        \"\"\"\n",
    "        스태틱 메소드(항상 첫 인자가 주어지 않음)\n",
    "        \"\"\"\n",
    "        print(f'{name=}')\n",
    "\n",
    "name = 'kp2'\n",
    "user1 = User(name)\n",
    "\n",
    "user1.greeting() # 인스턴스로 접근하여 자동으로 자기 자신이 인자\n",
    "User.greeting(user1) # 클래스로 접근하여 직접 인스턴스를 명시해야 함\n",
    "print(f'{user1.greeting=}')\n",
    "print(f'{User.greeting=}')\n",
    "print(user1.greeting is User.greeting)\n",
    "print()\n",
    "\n",
    "user1.classGreeting() # user1의 클래스(User)가 첫 인자로 주어짐\n",
    "User.classGreeting() # User가 첫 인자로 주어짐\n",
    "print(f'{user1.classGreeting=}')\n",
    "print(f'{User.classGreeting=}')\n",
    "print(user1.classGreeting is User.classGreeting)\n",
    "print()\n",
    "\n",
    "user1.staticGreeting(name) # self, cls 이런 거 인자로 들어가지 않음.\n",
    "User.staticGreeting(name) # 마찬가지\n",
    "print(f'{user1.staticGreeting=}')\n",
    "print(f'{User.staticGreeting=}')\n",
    "print(user1.staticGreeting is User.staticGreeting)\n",
    "print()"
   ]
  },
  {
   "cell_type": "code",
   "execution_count": null,
   "metadata": {},
   "outputs": [],
   "source": []
  }
 ],
 "metadata": {
  "interpreter": {
   "hash": "92af5a26bf30207789f3855b30100c5615503e73af9dfdccd0909e285010cbfd"
  },
  "kernelspec": {
   "display_name": "Python 3.8.12 64-bit ('base': conda)",
   "language": "python",
   "name": "python3"
  },
  "language_info": {
   "codemirror_mode": {
    "name": "ipython",
    "version": 3
   },
   "file_extension": ".py",
   "mimetype": "text/x-python",
   "name": "python",
   "nbconvert_exporter": "python",
   "pygments_lexer": "ipython3",
   "version": "3.8.12"
  },
  "orig_nbformat": 4
 },
 "nbformat": 4,
 "nbformat_minor": 2
}
