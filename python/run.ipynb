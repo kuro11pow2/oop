{
 "cells": [
  {
   "cell_type": "markdown",
   "metadata": {},
   "source": [
    "# 파이썬"
   ]
  },
  {
   "cell_type": "code",
   "execution_count": null,
   "metadata": {},
   "outputs": [],
   "source": [
    "class User:\n",
    "\n",
    "    class_attr = 1\n",
    "\n",
    "    def __init__(self, name):\n",
    "        self.name = name\n",
    "\n",
    "    def greeting(self):\n",
    "        \"\"\"\n",
    "        인스턴스 메소드(인스턴스 접근할 경우, 첫 인자가 자기 자신으로 주어짐)\n",
    "        \"\"\"\n",
    "        print(f'{self.name=}')\n",
    "\n",
    "    @classmethod\n",
    "    def classGreeting(cls):\n",
    "        \"\"\"\n",
    "        클래스 메소드(항상 첫 인자가 자기 자신(의 클래스)로 주어짐)\n",
    "        \"\"\"\n",
    "        print(f'{cls}, {cls.class_attr=}')\n",
    "\n",
    "    @staticmethod\n",
    "    def staticGreeting(name):\n",
    "        \"\"\"\n",
    "        스태틱 메소드(항상 첫 인자가 주어지 않음)\n",
    "        \"\"\"\n",
    "        print(f'{name=}')\n",
    "\n",
    "name = 'kp2'\n",
    "user1 = User(name)\n",
    "\n",
    "user1.greeting() # 인스턴스로 접근하여 자동으로 자기 자신이 인자\n",
    "User.greeting(user1) # 클래스로 접근하여 직접 인스턴스를 명시해야 함\n",
    "print(f'{user1.greeting=}')\n",
    "print(f'{User.greeting=}')\n",
    "print(user1.greeting is User.greeting)\n",
    "print()\n",
    "\n",
    "user1.classGreeting() # user1의 클래스(User)가 첫 인자로 주어짐\n",
    "User.classGreeting() # User가 첫 인자로 주어짐\n",
    "print(f'{user1.classGreeting=}')\n",
    "print(f'{User.classGreeting=}')\n",
    "print(user1.classGreeting is User.classGreeting)\n",
    "print()\n",
    "\n",
    "user1.staticGreeting(name) # self, cls 이런 거 인자로 들어가지 않음.\n",
    "User.staticGreeting(name) # 마찬가지\n",
    "print(f'{user1.staticGreeting=}')\n",
    "print(f'{User.staticGreeting=}')\n",
    "print(user1.staticGreeting is User.staticGreeting)\n",
    "print()"
   ]
  },
  {
   "cell_type": "markdown",
   "metadata": {},
   "source": [
    "# 캡슐화"
   ]
  },
  {
   "cell_type": "code",
   "execution_count": 30,
   "metadata": {},
   "outputs": [
    {
     "name": "stdout",
     "output_type": "stream",
     "text": [
      "True\n",
      "False\n"
     ]
    }
   ],
   "source": [
    "class Citizen:\n",
    "\n",
    "    def __init__(self, name: str, age: int, citizenship: str) -> None:\n",
    "        self.name = name\n",
    "        self.age = age\n",
    "        self.citizenship = citizenship\n",
    "\n",
    "    @property\n",
    "    def name(self) -> str:\n",
    "        return self._name\n",
    "\n",
    "    @name.setter\n",
    "    def name(self, name: str) -> None:\n",
    "        if not isinstance(name, str):\n",
    "            raise TypeError('Invalid name')\n",
    "        self._name = name\n",
    "\n",
    "    @property\n",
    "    def citizenship(self) -> str:\n",
    "        return self._citizenship\n",
    "\n",
    "    @citizenship.setter\n",
    "    def citizenship(self, citizenship: str) -> None:\n",
    "        if not isinstance(citizenship, str):\n",
    "            raise TypeError('Invalid citizenship')\n",
    "        elif citizenship not in ['KOR', 'USA']:\n",
    "            raise ValueError('Invalid citizenship')\n",
    "        self._citizenship = citizenship\n",
    "\n",
    "    @property\n",
    "    def age(self) -> int:\n",
    "        return self._age\n",
    "    \n",
    "    @age.setter\n",
    "    def age(self, age: int) -> None:\n",
    "        if not isinstance(age, int) or age <= 0:\n",
    "            raise TypeError('Invalid age')\n",
    "        self._age = age\n",
    "\n",
    "    def able_to_drink(self) -> bool:\n",
    "        age = self._age\n",
    "        if self.citizenship == 'KOR':\n",
    "            age -= 1\n",
    "        \n",
    "        return age > 18\n",
    "\n",
    "korean1 = Citizen('gildong', 19, 'USA')\n",
    "american1 = Citizen('tom', 19, 'KOR')\n",
    "print(korean1.able_to_drink())\n",
    "print(american1.able_to_drink())\n",
    "    "
   ]
  },
  {
   "cell_type": "markdown",
   "metadata": {},
   "source": [
    "# 상속"
   ]
  },
  {
   "cell_type": "code",
   "execution_count": 15,
   "metadata": {},
   "outputs": [
    {
     "name": "stdout",
     "output_type": "stream",
     "text": [
      "Dragon roar\n",
      "▶BlueDragon◀ roar\n"
     ]
    }
   ],
   "source": [
    "class Dragon:\n",
    "\n",
    "    def __init__(self, category:str='Dragon') -> None:\n",
    "        self._category = category\n",
    "    \n",
    "    def category(self) -> str:\n",
    "        return self._category\n",
    "\n",
    "    def roar(self) -> str:\n",
    "        print(f'{self.category()} roar')\n",
    "\n",
    "\n",
    "class BlueDragon(Dragon):\n",
    "\n",
    "    def __init__(self, category:str='Dragon') -> None:\n",
    "        super(BlueDragon, self).__init__('BlueDragon')\n",
    "\n",
    "    def category(self) -> str:\n",
    "        return f'▶{self._category}◀'\n",
    "\n",
    "\n",
    "Dragon().roar()\n",
    "BlueDragon().roar()\n"
   ]
  },
  {
   "cell_type": "markdown",
   "metadata": {},
   "source": [
    "# 다형성"
   ]
  },
  {
   "cell_type": "code",
   "execution_count": 11,
   "metadata": {},
   "outputs": [
    {
     "name": "stdout",
     "output_type": "stream",
     "text": [
      "Can't instantiate abstract class Animal with abstract methods call\n",
      "1, Human: hey\n",
      "2, Cat: meow\n"
     ]
    }
   ],
   "source": [
    "import abc\n",
    "\n",
    "\n",
    "class Animal(metaclass=abc.ABCMeta):\n",
    "\n",
    "    def __init__(self, name, category) -> None:\n",
    "        self._name = name\n",
    "        self._category = category\n",
    "\n",
    "    def name(self) -> int:\n",
    "        return self._name\n",
    "    \n",
    "    def category(self) -> str:\n",
    "        return self._category\n",
    "    \n",
    "    @abc.abstractmethod\n",
    "    def call(self) -> None:\n",
    "        raise NotImplemented\n",
    "\n",
    "\n",
    "class Human(Animal):\n",
    "    \n",
    "    def __init__(self, name:int, category:str='Human') -> None:\n",
    "        super(Human, self).__init__(name, category)\n",
    "    \n",
    "    def call(self) -> None:\n",
    "        print(f'{self.name()}, {self.category()}: hey')\n",
    "\n",
    "\n",
    "class Cat(Animal):\n",
    "\n",
    "    def __init__(self, name:int, category:str='Cat') -> None:\n",
    "        super(Cat, self).__init__(name, category)\n",
    "\n",
    "    def call(self) -> None:\n",
    "        print(f'{self.name()}, {self.category()}: meow')\n",
    "\n",
    "\n",
    "# error test #1\n",
    "try:\n",
    "    Animal(0)\n",
    "except Exception as e:\n",
    "    print(e)\n",
    "\n",
    "Human(1).call()\n",
    "Cat(2).call()"
   ]
  }
 ],
 "metadata": {
  "interpreter": {
   "hash": "92af5a26bf30207789f3855b30100c5615503e73af9dfdccd0909e285010cbfd"
  },
  "kernelspec": {
   "display_name": "Python 3.8.12 64-bit ('base': conda)",
   "language": "python",
   "name": "python3"
  },
  "language_info": {
   "codemirror_mode": {
    "name": "ipython",
    "version": 3
   },
   "file_extension": ".py",
   "mimetype": "text/x-python",
   "name": "python",
   "nbconvert_exporter": "python",
   "pygments_lexer": "ipython3",
   "version": "3.8.12"
  },
  "orig_nbformat": 4
 },
 "nbformat": 4,
 "nbformat_minor": 2
}
